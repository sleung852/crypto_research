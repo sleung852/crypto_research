{
 "cells": [
  {
   "cell_type": "code",
   "execution_count": 127,
   "metadata": {},
   "outputs": [],
   "source": [
    "import numpy as np\n",
    "import pandas as pd\n",
    "from statsmodels import regression\n",
    "import statsmodels.api as sm"
   ]
  },
  {
   "cell_type": "code",
   "execution_count": 128,
   "metadata": {},
   "outputs": [],
   "source": [
    "eth = pd.read_csv(\"data 041018/eth.csv\")"
   ]
  },
  {
   "cell_type": "code",
   "execution_count": 129,
   "metadata": {},
   "outputs": [
    {
     "data": {
      "text/plain": [
       "['date',\n",
       " 'txVolume(USD)',\n",
       " 'adjustedTxVolume(USD)',\n",
       " 'txCount',\n",
       " 'marketcap(USD)',\n",
       " 'price(USD)',\n",
       " 'exchangeVolume(USD)',\n",
       " 'generatedCoins',\n",
       " 'fees',\n",
       " 'activeAddresses',\n",
       " 'medianTxValue(USD)',\n",
       " 'medianFee',\n",
       " 'averageDifficulty',\n",
       " 'paymentCount',\n",
       " 'blockSize',\n",
       " 'blockCount']"
      ]
     },
     "execution_count": 129,
     "metadata": {},
     "output_type": "execute_result"
    }
   ],
   "source": [
    "list(eth.columns.values)"
   ]
  },
  {
   "cell_type": "code",
   "execution_count": 130,
   "metadata": {},
   "outputs": [],
   "source": [
    "##remove all nan\n",
    "eth = eth[np.isfinite(eth['txVolume(USD)'])]"
   ]
  },
  {
   "cell_type": "code",
   "execution_count": 131,
   "metadata": {},
   "outputs": [],
   "source": [
    "eth = eth.set_index(eth['date']).drop('date',axis='columns')"
   ]
  },
  {
   "cell_type": "code",
   "execution_count": 132,
   "metadata": {},
   "outputs": [],
   "source": [
    "eth['future_ma5']=np.nan"
   ]
  },
  {
   "cell_type": "code",
   "execution_count": 135,
   "metadata": {},
   "outputs": [
    {
     "name": "stderr",
     "output_type": "stream",
     "text": [
      "/Users/See/anaconda/lib/python3.6/site-packages/ipykernel/__main__.py:2: SettingWithCopyWarning: \n",
      "A value is trying to be set on a copy of a slice from a DataFrame\n",
      "\n",
      "See the caveats in the documentation: http://pandas.pydata.org/pandas-docs/stable/indexing.html#indexing-view-versus-copy\n",
      "  from ipykernel import kernelapp as app\n"
     ]
    }
   ],
   "source": [
    "for i in range(len(eth['future_ma5'])-5):\n",
    "    eth['future_ma5'][i]=np.average(eth['price(USD)'][i+1:i+6])\n",
    "    "
   ]
  },
  {
   "cell_type": "code",
   "execution_count": 136,
   "metadata": {},
   "outputs": [],
   "source": [
    "eth = eth.drop(eth.index[-5:],axis='index')"
   ]
  },
  {
   "cell_type": "code",
   "execution_count": 137,
   "metadata": {},
   "outputs": [
    {
     "name": "stdout",
     "output_type": "stream",
     "text": [
      "(1148,) (1148, 15)\n"
     ]
    }
   ],
   "source": [
    "response = eth['future_ma5']\n",
    "data = eth.drop('future_ma5',axis='columns')\n",
    "\n",
    "print((response.shape), (data.shape))"
   ]
  },
  {
   "cell_type": "code",
   "execution_count": 138,
   "metadata": {},
   "outputs": [],
   "source": [
    "def forward_aic(response, data):\n",
    "    #define some variables\n",
    "    explanatory = list(data.columns)\n",
    "    selected = pd.Series(np.ones(data.shape[0]), index=data.index, name=\"Intercept\")\n",
    "    current_score, best_new_score = np.inf, np.inf\n",
    "    \n",
    "    # Loop to find the best model\n",
    "    while current_score == best_new_score and len(explanatory) != 0:\n",
    "        \n",
    "        scores_with_elements = []\n",
    "        count = 0\n",
    "        \n",
    "        # For each explanatory variable\n",
    "        for element in explanatory:\n",
    "            # Make a set of explanatory variables including our current best and the new one\n",
    "            tmp = pd.concat([selected, data[element]], axis=1)\n",
    "            # Test the set\n",
    "            result = regression.linear_model.OLS(list(response), tmp).fit()\n",
    "            score = result.aic\n",
    "            scores_with_elements.append((score, element, count))\n",
    "            count += 1\n",
    "        \n",
    "        # Sort the scoring list\n",
    "        scores_with_elements.sort(reverse = True)\n",
    "        # Get the best new variable\n",
    "        best_new_score, best_element, index = scores_with_elements.pop()\n",
    "        if current_score > best_new_score:\n",
    "            # If it's better than the best add it to the set\n",
    "            explanatory.pop(index)\n",
    "            selected = pd.concat([selected, data[best_element]],axis=1)\n",
    "            current_score = best_new_score\n",
    "    # Return the final model\n",
    "    model = regression.linear_model.OLS(list(response), selected).fit()\n",
    "    return model"
   ]
  },
  {
   "cell_type": "code",
   "execution_count": 139,
   "metadata": {},
   "outputs": [
    {
     "data": {
      "text/html": [
       "<table class=\"simpletable\">\n",
       "<caption>OLS Regression Results</caption>\n",
       "<tr>\n",
       "  <th>Dep. Variable:</th>            <td>y</td>        <th>  R-squared:         </th> <td>   0.989</td> \n",
       "</tr>\n",
       "<tr>\n",
       "  <th>Model:</th>                   <td>OLS</td>       <th>  Adj. R-squared:    </th> <td>   0.989</td> \n",
       "</tr>\n",
       "<tr>\n",
       "  <th>Method:</th>             <td>Least Squares</td>  <th>  F-statistic:       </th> <td>   8571.</td> \n",
       "</tr>\n",
       "<tr>\n",
       "  <th>Date:</th>             <td>Tue, 09 Oct 2018</td> <th>  Prob (F-statistic):</th>  <td>  0.00</td>  \n",
       "</tr>\n",
       "<tr>\n",
       "  <th>Time:</th>                 <td>11:40:28</td>     <th>  Log-Likelihood:    </th> <td> -5523.0</td> \n",
       "</tr>\n",
       "<tr>\n",
       "  <th>No. Observations:</th>      <td>  1148</td>      <th>  AIC:               </th> <td>1.107e+04</td>\n",
       "</tr>\n",
       "<tr>\n",
       "  <th>Df Residuals:</th>          <td>  1135</td>      <th>  BIC:               </th> <td>1.114e+04</td>\n",
       "</tr>\n",
       "<tr>\n",
       "  <th>Df Model:</th>              <td>    12</td>      <th>                     </th>     <td> </td>    \n",
       "</tr>\n",
       "<tr>\n",
       "  <th>Covariance Type:</th>      <td>nonrobust</td>    <th>                     </th>     <td> </td>    \n",
       "</tr>\n",
       "</table>\n",
       "<table class=\"simpletable\">\n",
       "<tr>\n",
       "            <td></td>               <th>coef</th>     <th>std err</th>      <th>t</th>      <th>P>|t|</th>  <th>[0.025</th>    <th>0.975]</th>  \n",
       "</tr>\n",
       "<tr>\n",
       "  <th>Intercept</th>             <td>  -11.3370</td> <td>    2.373</td> <td>   -4.777</td> <td> 0.000</td> <td>  -15.994</td> <td>   -6.680</td>\n",
       "</tr>\n",
       "<tr>\n",
       "  <th>price(USD)</th>            <td>    2.9088</td> <td>    0.271</td> <td>   10.735</td> <td> 0.000</td> <td>    2.377</td> <td>    3.440</td>\n",
       "</tr>\n",
       "<tr>\n",
       "  <th>paymentCount</th>          <td>    0.0004</td> <td> 4.53e-05</td> <td>    8.207</td> <td> 0.000</td> <td>    0.000</td> <td>    0.000</td>\n",
       "</tr>\n",
       "<tr>\n",
       "  <th>marketcap(USD)</th>        <td>-2.098e-08</td> <td>  2.8e-09</td> <td>   -7.500</td> <td> 0.000</td> <td>-2.65e-08</td> <td>-1.55e-08</td>\n",
       "</tr>\n",
       "<tr>\n",
       "  <th>txVolume(USD)</th>         <td>-5.148e-09</td> <td> 7.18e-10</td> <td>   -7.174</td> <td> 0.000</td> <td>-6.56e-09</td> <td>-3.74e-09</td>\n",
       "</tr>\n",
       "<tr>\n",
       "  <th>medianTxValue(USD)</th>    <td>   -0.1070</td> <td>    0.039</td> <td>   -2.735</td> <td> 0.006</td> <td>   -0.184</td> <td>   -0.030</td>\n",
       "</tr>\n",
       "<tr>\n",
       "  <th>exchangeVolume(USD)</th>   <td> 2.133e-08</td> <td> 2.64e-09</td> <td>    8.067</td> <td> 0.000</td> <td> 1.61e-08</td> <td> 2.65e-08</td>\n",
       "</tr>\n",
       "<tr>\n",
       "  <th>adjustedTxVolume(USD)</th> <td>-2.661e-08</td> <td> 4.65e-09</td> <td>   -5.727</td> <td> 0.000</td> <td>-3.57e-08</td> <td>-1.75e-08</td>\n",
       "</tr>\n",
       "<tr>\n",
       "  <th>activeAddresses</th>       <td>   -0.0005</td> <td> 7.12e-05</td> <td>   -6.932</td> <td> 0.000</td> <td>   -0.001</td> <td>   -0.000</td>\n",
       "</tr>\n",
       "<tr>\n",
       "  <th>txCount</th>               <td>    0.0002</td> <td> 3.88e-05</td> <td>    6.335</td> <td> 0.000</td> <td>    0.000</td> <td>    0.000</td>\n",
       "</tr>\n",
       "<tr>\n",
       "  <th>medianFee</th>             <td> 5381.7731</td> <td> 2396.964</td> <td>    2.245</td> <td> 0.025</td> <td>  678.794</td> <td> 1.01e+04</td>\n",
       "</tr>\n",
       "<tr>\n",
       "  <th>blockSize</th>             <td>-3.276e-07</td> <td> 9.63e-08</td> <td>   -3.401</td> <td> 0.001</td> <td>-5.17e-07</td> <td>-1.39e-07</td>\n",
       "</tr>\n",
       "<tr>\n",
       "  <th>fees</th>                  <td>    0.0070</td> <td>    0.003</td> <td>    2.437</td> <td> 0.015</td> <td>    0.001</td> <td>    0.013</td>\n",
       "</tr>\n",
       "</table>\n",
       "<table class=\"simpletable\">\n",
       "<tr>\n",
       "  <th>Omnibus:</th>       <td>289.175</td> <th>  Durbin-Watson:     </th> <td>   0.549</td>\n",
       "</tr>\n",
       "<tr>\n",
       "  <th>Prob(Omnibus):</th> <td> 0.000</td>  <th>  Jarque-Bera (JB):  </th> <td>6449.570</td>\n",
       "</tr>\n",
       "<tr>\n",
       "  <th>Skew:</th>          <td>-0.599</td>  <th>  Prob(JB):          </th> <td>    0.00</td>\n",
       "</tr>\n",
       "<tr>\n",
       "  <th>Kurtosis:</th>      <td>14.550</td>  <th>  Cond. No.          </th> <td>9.51e+13</td>\n",
       "</tr>\n",
       "</table>"
      ],
      "text/plain": [
       "<class 'statsmodels.iolib.summary.Summary'>\n",
       "\"\"\"\n",
       "                            OLS Regression Results                            \n",
       "==============================================================================\n",
       "Dep. Variable:                      y   R-squared:                       0.989\n",
       "Model:                            OLS   Adj. R-squared:                  0.989\n",
       "Method:                 Least Squares   F-statistic:                     8571.\n",
       "Date:                Tue, 09 Oct 2018   Prob (F-statistic):               0.00\n",
       "Time:                        11:40:28   Log-Likelihood:                -5523.0\n",
       "No. Observations:                1148   AIC:                         1.107e+04\n",
       "Df Residuals:                    1135   BIC:                         1.114e+04\n",
       "Df Model:                          12                                         \n",
       "Covariance Type:            nonrobust                                         \n",
       "=========================================================================================\n",
       "                            coef    std err          t      P>|t|      [0.025      0.975]\n",
       "-----------------------------------------------------------------------------------------\n",
       "Intercept               -11.3370      2.373     -4.777      0.000     -15.994      -6.680\n",
       "price(USD)                2.9088      0.271     10.735      0.000       2.377       3.440\n",
       "paymentCount              0.0004   4.53e-05      8.207      0.000       0.000       0.000\n",
       "marketcap(USD)        -2.098e-08    2.8e-09     -7.500      0.000   -2.65e-08   -1.55e-08\n",
       "txVolume(USD)         -5.148e-09   7.18e-10     -7.174      0.000   -6.56e-09   -3.74e-09\n",
       "medianTxValue(USD)       -0.1070      0.039     -2.735      0.006      -0.184      -0.030\n",
       "exchangeVolume(USD)    2.133e-08   2.64e-09      8.067      0.000    1.61e-08    2.65e-08\n",
       "adjustedTxVolume(USD) -2.661e-08   4.65e-09     -5.727      0.000   -3.57e-08   -1.75e-08\n",
       "activeAddresses          -0.0005   7.12e-05     -6.932      0.000      -0.001      -0.000\n",
       "txCount                   0.0002   3.88e-05      6.335      0.000       0.000       0.000\n",
       "medianFee              5381.7731   2396.964      2.245      0.025     678.794    1.01e+04\n",
       "blockSize             -3.276e-07   9.63e-08     -3.401      0.001   -5.17e-07   -1.39e-07\n",
       "fees                      0.0070      0.003      2.437      0.015       0.001       0.013\n",
       "==============================================================================\n",
       "Omnibus:                      289.175   Durbin-Watson:                   0.549\n",
       "Prob(Omnibus):                  0.000   Jarque-Bera (JB):             6449.570\n",
       "Skew:                          -0.599   Prob(JB):                         0.00\n",
       "Kurtosis:                      14.550   Cond. No.                     9.51e+13\n",
       "==============================================================================\n",
       "\n",
       "Warnings:\n",
       "[1] Standard Errors assume that the covariance matrix of the errors is correctly specified.\n",
       "[2] The condition number is large, 9.51e+13. This might indicate that there are\n",
       "strong multicollinearity or other numerical problems.\n",
       "\"\"\""
      ]
     },
     "execution_count": 139,
     "metadata": {},
     "output_type": "execute_result"
    }
   ],
   "source": [
    "result = forward_aic(response, data)\n",
    "result.summary()"
   ]
  },
  {
   "cell_type": "code",
   "execution_count": null,
   "metadata": {},
   "outputs": [],
   "source": []
  }
 ],
 "metadata": {
  "kernelspec": {
   "display_name": "Python [default]",
   "language": "python",
   "name": "python3"
  },
  "language_info": {
   "codemirror_mode": {
    "name": "ipython",
    "version": 3
   },
   "file_extension": ".py",
   "mimetype": "text/x-python",
   "name": "python",
   "nbconvert_exporter": "python",
   "pygments_lexer": "ipython3",
   "version": "3.6.4"
  }
 },
 "nbformat": 4,
 "nbformat_minor": 2
}
